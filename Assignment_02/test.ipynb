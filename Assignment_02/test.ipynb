{
 "cells": [
  {
   "cell_type": "code",
   "execution_count": 9,
   "metadata": {
    "collapsed": false,
    "deletable": true,
    "editable": true
   },
   "outputs": [],
   "source": [
    "#daily-bit\n",
    "\n",
    "from blockchain import blockexplorer\n",
    "import argparse\n",
    "from datetime import datetime, date\n",
    "import requests\n",
    "import json"
   ]
  },
  {
   "cell_type": "code",
   "execution_count": 19,
   "metadata": {
    "collapsed": false,
    "deletable": true,
    "editable": true
   },
   "outputs": [],
   "source": [
    "x =  int(( (datetime(2016,02,15) - datetime(1970, 1, 1)).total_seconds())*1000)\n",
    "\n",
    "def BTC_per_day(date):\n",
    "    count = 0\n",
    "    blocks = blockexplorer.get_blocks(date)\n",
    "    for s_block in blocks:\n",
    "        hash_key = s_block.hash\n",
    "\n",
    "        block = json.loads(requests.get('https://blockchain.info/rawblock/'+hash_key).content)\n",
    "        for tran in  block['tx']:\n",
    "            for output in tran['out']:\n",
    "                count += output['value']\n",
    "    return float(count/1e8)\n",
    "\n",
    "\n",
    "\n",
    "\n",
    "\n",
    "\n"
   ]
  },
  {
   "cell_type": "code",
   "execution_count": 20,
   "metadata": {
    "collapsed": false,
    "deletable": true,
    "editable": true
   },
   "outputs": [
    {
     "data": {
      "text/plain": [
       "3946398.85033637"
      ]
     },
     "execution_count": 20,
     "metadata": {},
     "output_type": "execute_result"
    }
   ],
   "source": [
    "BTC_per_day(x)"
   ]
  },
  {
   "cell_type": "code",
   "execution_count": 29,
   "metadata": {
    "collapsed": false,
    "deletable": true,
    "editable": true
   },
   "outputs": [
    {
     "name": "stdout",
     "output_type": "stream",
     "text": [
      "['{\\n  \"status\": \"ok\",\\n  \"name\": \"Estimated Transaction Value\",\\n  \"unit\": \"BTC\",\\n  \"period\": \"day\",\\n  \"description\": \"The total estimated value of transactions on the Bitcoin blockchain (does not include coins returned to sender as change).\",\\n  \"values\": [\\n    {\\n      ', ': 1488067200,\\n      \"y\": 168919.1928246\\n    },\\n    {\\n      ', ': 1488153600,\\n      \"y\": 221116.89378023\\n    },\\n    {\\n      ', ': 1488240000,\\n      \"y\": 214370.21734414\\n    }\\n  ]\\n}']\n"
     ]
    }
   ],
   "source": [
    "r = requests.get('https://blockchain.info/charts/estimated-transaction-volume?timespan=3days&format=json')\n",
    "print r.content.split(\"\\\"x\\\"\")"
   ]
  }
 ],
 "metadata": {
  "kernelspec": {
   "display_name": "Python 2",
   "language": "python",
   "name": "python2"
  },
  "language_info": {
   "codemirror_mode": {
    "name": "ipython",
    "version": 2
   },
   "file_extension": ".py",
   "mimetype": "text/x-python",
   "name": "python",
   "nbconvert_exporter": "python",
   "pygments_lexer": "ipython2",
   "version": "2.7.13"
  }
 },
 "nbformat": 4,
 "nbformat_minor": 2
}
