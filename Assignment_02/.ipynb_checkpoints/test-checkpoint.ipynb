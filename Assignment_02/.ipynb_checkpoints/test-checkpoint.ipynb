{
 "cells": [
  {
   "cell_type": "code",
   "execution_count": 2,
   "metadata": {
    "collapsed": true,
    "deletable": true,
    "editable": true
   },
   "outputs": [],
   "source": [
    "#daily-bit\n",
    "\n",
    "from blockchain import blockexplorer\n",
    "import argparse\n",
    "from datetime import datetime, date"
   ]
  },
  {
   "cell_type": "code",
   "execution_count": 3,
   "metadata": {
    "collapsed": false,
    "deletable": true,
    "editable": true
   },
   "outputs": [],
   "source": [
    "x =  int(( (datetime(2016,02,15) - datetime(1970, 1, 1)).total_seconds())*1000)\n",
    "\n",
    "def BTC_per_day(date):\n",
    "    count = 0\n",
    "    blocks = blockexplorer.get_blocks(date)\n",
    "    for s_block in blocks:\n",
    "        hash_key = s_block.hash\n",
    "\n",
    "        trans = blockexplorer.get_block(hash_key).transactions\n",
    "        for tran in trans:\n",
    "            outputs = tran.outputs\n",
    "            for output in outputs:\n",
    "                count += output.value\n",
    "    return float(count/1e8)\n",
    "\n",
    "\n",
    "\n",
    "\n",
    "\n",
    "\n"
   ]
  },
  {
   "cell_type": "code",
   "execution_count": 5,
   "metadata": {
    "collapsed": false,
    "deletable": true,
    "editable": true
   },
   "outputs": [
    {
     "name": "stdout",
     "output_type": "stream",
     "text": [
      "2016-02-15 00:00:00\n",
      "There are 89109.4992772 traded at that Date.\n"
     ]
    }
   ],
   "source": [
    "print datetime(2016,02,15)\n",
    "print 'There are',BTC_per_day(x),\"traded at that Date.\""
   ]
  }
 ],
 "metadata": {
  "kernelspec": {
   "display_name": "Python 2",
   "language": "python",
   "name": "python2"
  },
  "language_info": {
   "codemirror_mode": {
    "name": "ipython",
    "version": 2
   },
   "file_extension": ".py",
   "mimetype": "text/x-python",
   "name": "python",
   "nbconvert_exporter": "python",
   "pygments_lexer": "ipython2",
   "version": "2.7.13"
  }
 },
 "nbformat": 4,
 "nbformat_minor": 2
}
