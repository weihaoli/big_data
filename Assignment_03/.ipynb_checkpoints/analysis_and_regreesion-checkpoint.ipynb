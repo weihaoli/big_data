{
 "cells": [
  {
   "cell_type": "code",
   "execution_count": 1,
   "metadata": {
    "collapsed": false,
    "deletable": true,
    "editable": true
   },
   "outputs": [],
   "source": [
    "from pyspark.sql import SparkSession\n",
    "import json\n",
    "import pandas as pd\n",
    "import re\n",
    "spark = SparkSession \\\n",
    "    .builder \\\n",
    "    .master(\"local[4]\")\\\n",
    "    .appName(\"Python Spark SQL basic example\") \\\n",
    "    .config(\"spark.some.config.option\", \"some-value\") \\\n",
    "    .getOrCreate()\\\n",
    "    \n",
    "    \n",
    "\n",
    "\n",
    "\n",
    "\n"
   ]
  },
  {
   "cell_type": "code",
   "execution_count": 2,
   "metadata": {
    "collapsed": false,
    "deletable": true,
    "editable": true,
    "scrolled": true
   },
   "outputs": [],
   "source": [
    "def load_dict():\n",
    "    df = pd.read_excel(\"Dic_2014.xlsx\",  parse_cols='A,E')\n",
    "    df['Word'] = df['Word'].astype(str)\n",
    "    df['Score'] = df['Score'].astype(int)\n",
    "    _dic = df.set_index('Word').T.to_dict('list')\n",
    "    return _dic\n"
   ]
  },
  {
   "cell_type": "code",
   "execution_count": 3,
   "metadata": {
    "collapsed": false,
    "deletable": true,
    "editable": true
   },
   "outputs": [],
   "source": [
    "def load_data(i):\n",
    "    path =\"12/\"+i +\"/*/*.json.bz2\"\n",
    "    twtr = spark.read.json(path)\n",
    "    twtr = twtr.filter(twtr['lang'] == 'en')\n",
    "    twtr_rdd = twtr.rdd\n",
    "    return twtr_rdd\n"
   ]
  },
  {
   "cell_type": "code",
   "execution_count": 4,
   "metadata": {
    "collapsed": true,
    "deletable": true,
    "editable": true
   },
   "outputs": [],
   "source": [
    "def follower_eva(NB,scores):\n",
    "    scores['N'] = scores['N'] + NB\n",
    "    return 0"
   ]
  },
  {
   "cell_type": "code",
   "execution_count": 5,
   "metadata": {
    "collapsed": false,
    "deletable": true,
    "editable": true
   },
   "outputs": [],
   "source": [
    "def word_eva(clean_text,scores):\n",
    "   \n",
    "    scores['M'] = scores['M'] + 1\n",
    "    list_words = clean_text.split(\" \")\n",
    "    for word in list_words:\n",
    "        if word.upper() in senti_dic and senti_dic[word.upper()][0] >0:\n",
    "            scores['P'] = scores['P'] +1\n",
    "            return 0\n",
    "        if word.upper() in senti_dic and senti_dic[word.upper()][0] <0:\n",
    "            scores['N'] = scores['N'] + 1\n",
    "            return 0\n",
    "    return 0\n",
    "    "
   ]
  },
  {
   "cell_type": "code",
   "execution_count": 6,
   "metadata": {
    "collapsed": false,
    "deletable": true,
    "editable": true
   },
   "outputs": [],
   "source": [
    "def map_dict(x):\n",
    "    score_dic = {'AMZN':{'M': 0,'P':0,'N':0},'IBM':{'M': 0,'P':0,'N':0},\\\n",
    "                 'TSLA':{'M': 0,'P':0,'N':0},\"MSFT\":{'M': 0,'P':0,'N':0},\\\n",
    "                 'VZ':{'M': 0,'P':0,'N':0}}\n",
    "    #the part process ,\n",
    "    in_str = str(x)\n",
    "    \n",
    "    clean_text = str(' '.join(re.sub(\"(@[A-Za-z0-9]+)|([^0-9A-Za-z \\t])|(\\w+:\\/\\/\\S+)|(text=u)\",\\\n",
    "                                     \" \", x['text']).split()))\n",
    "    \n",
    "    #NB_fllw   = float(x['followers_count']) \n",
    "    for i in [\"AMZN\",\"IBM\", \"TSLA\",\"VZ\",\"MSFT\"]:\n",
    "        if i in clean_text:\n",
    "           \n",
    "           \n",
    "            word_eva(clean_text,score_dic[i])\n",
    "            #follower_eva(NB_fllw,score_dic[i])\n",
    "            \n",
    "            \n",
    "    return score_dic"
   ]
  },
  {
   "cell_type": "code",
   "execution_count": 7,
   "metadata": {
    "collapsed": true,
    "deletable": true,
    "editable": true
   },
   "outputs": [],
   "source": [
    "def reduce_dict(x,y):\n",
    "    new_dict = x\n",
    "    for i in x:\n",
    "        for j in x[i]:\n",
    "            new_dict[i][j] = x[i][j]+y[i][j]\n",
    "    return new_dict\n",
    "    "
   ]
  },
  {
   "cell_type": "code",
   "execution_count": 8,
   "metadata": {
    "collapsed": false,
    "deletable": true,
    "editable": true
   },
   "outputs": [],
   "source": [
    "###################################Main################################################\n",
    "date_list = [\"01\",\"02\",\"03\",\"04\",\"05\",\"06\",\"07\",\"08\",\"09\",\"10\",\\\n",
    "                 \"11\",\"12\",\"13\",\"14\",\"15\",\"16\",\"17\",\"18\",\"19\",\"20\",\"21\",\"22\",\"23\",\\\n",
    "            \"24\",\"25\",\"26\",\"27\",\"28\",\"29\",\"30\",\"31\"]\n",
    "\n",
    "score_list = {}\n",
    "for i in date_list:\n",
    "    date = \"12-\" +i\n",
    "    senti_dic = load_dict()\n",
    "    twtr_rdd = load_data(i)\n",
    "    final_score = twtr_rdd.map(map_dict).reduce(reduce_dict)\n",
    "    score_list[date] = final_score\n",
    " "
   ]
  },
  {
   "cell_type": "code",
   "execution_count": 40,
   "metadata": {
    "collapsed": false,
    "deletable": true,
    "editable": true
   },
   "outputs": [
    {
     "name": "stderr",
     "output_type": "stream",
     "text": [
      "/home/liweihao/.local/lib/python2.7/site-packages/ipykernel/__main__.py:5: FutureWarning: sort(....) is deprecated, use sort_index(.....)\n"
     ]
    }
   ],
   "source": [
    "df = pd.DataFrame()\n",
    "for i in score_list:\n",
    "    seres = pd.DataFrame(score_list[i]['IBM'] , [i,])\n",
    "    df = df.append(seres)\n",
    "df=df.sort()"
   ]
  },
  {
   "cell_type": "code",
   "execution_count": 44,
   "metadata": {
    "collapsed": false,
    "deletable": true,
    "editable": true
   },
   "outputs": [],
   "source": [
    "import statsmodels.formula.api as sm\n",
    "import pandas_datareader.data as web\n",
    "import datetime"
   ]
  },
  {
   "cell_type": "code",
   "execution_count": 46,
   "metadata": {
    "collapsed": false,
    "deletable": true,
    "editable": true
   },
   "outputs": [
    {
     "name": "stdout",
     "output_type": "stream",
     "text": [
      "<class 'pandas.core.frame.DataFrame'>\n"
     ]
    }
   ],
   "source": [
    "start = datetime.datetime(2016, 12, 1)\n",
    "end = datetime.datetime(2016, 12, 31)\n",
    "f = web.DataReader(\"F\", 'yahoo', start, end)\n",
    "print type(f)"
   ]
  },
  {
   "cell_type": "code",
   "execution_count": 41,
   "metadata": {
    "collapsed": false,
    "deletable": true,
    "editable": true
   },
   "outputs": [
    {
     "data": {
      "text/html": [
       "<div>\n",
       "<table border=\"1\" class=\"dataframe\">\n",
       "  <thead>\n",
       "    <tr style=\"text-align: right;\">\n",
       "      <th></th>\n",
       "      <th>M</th>\n",
       "      <th>N</th>\n",
       "      <th>P</th>\n",
       "    </tr>\n",
       "  </thead>\n",
       "  <tbody>\n",
       "    <tr>\n",
       "      <th>12-01</th>\n",
       "      <td>144</td>\n",
       "      <td>20</td>\n",
       "      <td>18</td>\n",
       "    </tr>\n",
       "    <tr>\n",
       "      <th>12-02</th>\n",
       "      <td>154</td>\n",
       "      <td>11</td>\n",
       "      <td>33</td>\n",
       "    </tr>\n",
       "    <tr>\n",
       "      <th>12-05</th>\n",
       "      <td>99</td>\n",
       "      <td>5</td>\n",
       "      <td>13</td>\n",
       "    </tr>\n",
       "    <tr>\n",
       "      <th>12-06</th>\n",
       "      <td>198</td>\n",
       "      <td>43</td>\n",
       "      <td>27</td>\n",
       "    </tr>\n",
       "    <tr>\n",
       "      <th>12-07</th>\n",
       "      <td>125</td>\n",
       "      <td>18</td>\n",
       "      <td>13</td>\n",
       "    </tr>\n",
       "    <tr>\n",
       "      <th>12-08</th>\n",
       "      <td>174</td>\n",
       "      <td>21</td>\n",
       "      <td>24</td>\n",
       "    </tr>\n",
       "    <tr>\n",
       "      <th>12-09</th>\n",
       "      <td>109</td>\n",
       "      <td>13</td>\n",
       "      <td>24</td>\n",
       "    </tr>\n",
       "    <tr>\n",
       "      <th>12-12</th>\n",
       "      <td>98</td>\n",
       "      <td>10</td>\n",
       "      <td>13</td>\n",
       "    </tr>\n",
       "    <tr>\n",
       "      <th>12-13</th>\n",
       "      <td>267</td>\n",
       "      <td>33</td>\n",
       "      <td>42</td>\n",
       "    </tr>\n",
       "    <tr>\n",
       "      <th>12-14</th>\n",
       "      <td>275</td>\n",
       "      <td>26</td>\n",
       "      <td>37</td>\n",
       "    </tr>\n",
       "    <tr>\n",
       "      <th>12-15</th>\n",
       "      <td>146</td>\n",
       "      <td>8</td>\n",
       "      <td>23</td>\n",
       "    </tr>\n",
       "    <tr>\n",
       "      <th>12-16</th>\n",
       "      <td>125</td>\n",
       "      <td>4</td>\n",
       "      <td>20</td>\n",
       "    </tr>\n",
       "    <tr>\n",
       "      <th>12-19</th>\n",
       "      <td>129</td>\n",
       "      <td>10</td>\n",
       "      <td>17</td>\n",
       "    </tr>\n",
       "    <tr>\n",
       "      <th>12-20</th>\n",
       "      <td>87</td>\n",
       "      <td>10</td>\n",
       "      <td>12</td>\n",
       "    </tr>\n",
       "    <tr>\n",
       "      <th>12-21</th>\n",
       "      <td>110</td>\n",
       "      <td>14</td>\n",
       "      <td>19</td>\n",
       "    </tr>\n",
       "    <tr>\n",
       "      <th>12-22</th>\n",
       "      <td>89</td>\n",
       "      <td>8</td>\n",
       "      <td>16</td>\n",
       "    </tr>\n",
       "    <tr>\n",
       "      <th>12-23</th>\n",
       "      <td>67</td>\n",
       "      <td>8</td>\n",
       "      <td>10</td>\n",
       "    </tr>\n",
       "    <tr>\n",
       "      <th>12-27</th>\n",
       "      <td>76</td>\n",
       "      <td>13</td>\n",
       "      <td>11</td>\n",
       "    </tr>\n",
       "    <tr>\n",
       "      <th>12-28</th>\n",
       "      <td>103</td>\n",
       "      <td>5</td>\n",
       "      <td>10</td>\n",
       "    </tr>\n",
       "    <tr>\n",
       "      <th>12-29</th>\n",
       "      <td>58</td>\n",
       "      <td>3</td>\n",
       "      <td>7</td>\n",
       "    </tr>\n",
       "    <tr>\n",
       "      <th>12-30</th>\n",
       "      <td>95</td>\n",
       "      <td>20</td>\n",
       "      <td>10</td>\n",
       "    </tr>\n",
       "    <tr>\n",
       "      <th>12-31</th>\n",
       "      <td>26</td>\n",
       "      <td>2</td>\n",
       "      <td>3</td>\n",
       "    </tr>\n",
       "  </tbody>\n",
       "</table>\n",
       "</div>"
      ],
      "text/plain": [
       "         M   N   P\n",
       "12-01  144  20  18\n",
       "12-02  154  11  33\n",
       "12-05   99   5  13\n",
       "12-06  198  43  27\n",
       "12-07  125  18  13\n",
       "12-08  174  21  24\n",
       "12-09  109  13  24\n",
       "12-12   98  10  13\n",
       "12-13  267  33  42\n",
       "12-14  275  26  37\n",
       "12-15  146   8  23\n",
       "12-16  125   4  20\n",
       "12-19  129  10  17\n",
       "12-20   87  10  12\n",
       "12-21  110  14  19\n",
       "12-22   89   8  16\n",
       "12-23   67   8  10\n",
       "12-27   76  13  11\n",
       "12-28  103   5  10\n",
       "12-29   58   3   7\n",
       "12-30   95  20  10\n",
       "12-31   26   2   3"
      ]
     },
     "execution_count": 41,
     "metadata": {},
     "output_type": "execute_result"
    }
   ],
   "source": [
    "df = df.drop(df.index[[2,3,9,10,16,17,23,24,25]])\n",
    "df"
   ]
  }
 ],
 "metadata": {
  "kernelspec": {
   "display_name": "Python 2",
   "language": "python",
   "name": "python2"
  },
  "language_info": {
   "codemirror_mode": {
    "name": "ipython",
    "version": 2
   },
   "file_extension": ".py",
   "mimetype": "text/x-python",
   "name": "python",
   "nbconvert_exporter": "python",
   "pygments_lexer": "ipython2",
   "version": "2.7.13"
  }
 },
 "nbformat": 4,
 "nbformat_minor": 2
}
