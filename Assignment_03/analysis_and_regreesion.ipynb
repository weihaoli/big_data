{
 "cells": [
  {
   "cell_type": "code",
   "execution_count": null,
   "metadata": {
    "collapsed": false,
    "deletable": true,
    "editable": true
   },
   "outputs": [],
   "source": [
    "#initialization\n",
    "from pyspark.sql import SparkSession\n",
    "import json\n",
    "import pandas as pd\n",
    "import re\n",
    "spark = SparkSession \\\n",
    "    .builder \\\n",
    "    .master(\"local[4]\")\\\n",
    "    .appName(\"Python Spark SQL basic example\") \\\n",
    "    .config(\"spark.some.config.option\", \"some-value\") \\\n",
    "    .getOrCreate()\\\n",
    "    \n",
    "    \n",
    "\n",
    "\n",
    "\n",
    "\n"
   ]
  },
  {
   "cell_type": "code",
   "execution_count": null,
   "metadata": {
    "collapsed": false,
    "deletable": true,
    "editable": true,
    "scrolled": true
   },
   "outputs": [],
   "source": [
    "#load the dictionary\n",
    "def load_dict():\n",
    "    df = pd.read_excel(\"Dic_2014.xlsx\",  parse_cols='A,E')\n",
    "    df['Word'] = df['Word'].astype(str)\n",
    "    df['Score'] = df['Score'].astype(int)\n",
    "    _dic = df.set_index('Word').T.to_dict('list')\n",
    "    return _dic\n"
   ]
  },
  {
   "cell_type": "code",
   "execution_count": null,
   "metadata": {
    "collapsed": false,
    "deletable": true,
    "editable": true
   },
   "outputs": [],
   "source": [
    "#load data and change to rdd\n",
    "def load_data(i):\n",
    "    path =\"12/\"+i +\"/*/*.json.bz2\"\n",
    "    twtr = spark.read.json(path)\n",
    "    twtr = twtr.filter(twtr['lang'] == 'en')\n",
    "    twtr_rdd = twtr.rdd\n",
    "    return twtr_rdd\n"
   ]
  },
  {
   "cell_type": "code",
   "execution_count": null,
   "metadata": {
    "collapsed": false,
    "deletable": true,
    "editable": true
   },
   "outputs": [],
   "source": [
    "#evalue te clean tweeter\n",
    "def word_eva(clean_text,scores):\n",
    "   \n",
    "    scores['M'] = scores['M'] + 1\n",
    "    list_words = clean_text.split(\" \")\n",
    "    #check dictionary\n",
    "    for word in list_words:\n",
    "        if word.upper() in senti_dic and senti_dic[word.upper()][0] >0:\n",
    "            scores['P'] = scores['P'] +1\n",
    "            return 0\n",
    "        if word.upper() in senti_dic and senti_dic[word.upper()][0] <0:\n",
    "            scores['N'] = scores['N'] + 1\n",
    "            return 0\n",
    "    return 0\n",
    "    "
   ]
  },
  {
   "cell_type": "code",
   "execution_count": null,
   "metadata": {
    "collapsed": false,
    "deletable": true,
    "editable": true
   },
   "outputs": [],
   "source": [
    "#map function\n",
    "def map_dict(x):\n",
    "    #dictionary to records scores\n",
    "    score_dic = {'AMZN':{'M': 0,'P':0,'N':0},'IBM':{'M': 0,'P':0,'N':0},\\\n",
    "                 'TSLA':{'M': 0,'P':0,'N':0},\"MSFT\":{'M': 0,'P':0,'N':0},\\\n",
    "                 'VZ':{'M': 0,'P':0,'N':0}}\n",
    "    in_str = str(x)\n",
    "    \n",
    "    clean_text = str(' '.join(re.sub(\"(@[A-Za-z0-9]+)|([^0-9A-Za-z \\t])|(\\w+:\\/\\/\\S+)|(text=u)\",\\\n",
    "                                     \" \", x['text']).split()))\n",
    "    \n",
    "  \n",
    "    for i in [\"AMZN\",\"IBM\", \"TSLA\",\"VZ\",\"MSFT\"]:\n",
    "        if i in clean_text:\n",
    "           \n",
    "           \n",
    "            word_eva(clean_text,score_dic[i])\n",
    "           \n",
    "            \n",
    "            \n",
    "    return score_dic"
   ]
  },
  {
   "cell_type": "code",
   "execution_count": null,
   "metadata": {
    "collapsed": true,
    "deletable": true,
    "editable": true
   },
   "outputs": [],
   "source": [
    "#summary the scores\n",
    "def reduce_dict(x,y):\n",
    "    new_dict = x\n",
    "    for i in x:\n",
    "        for j in x[i]:\n",
    "            new_dict[i][j] = x[i][j]+y[i][j]\n",
    "    return new_dict\n",
    "    "
   ]
  },
  {
   "cell_type": "code",
   "execution_count": null,
   "metadata": {
    "collapsed": false,
    "deletable": true,
    "editable": true
   },
   "outputs": [],
   "source": [
    "################main################################\n",
    "date_list = [\"01\",\"02\",\"05\",\"06\",\"07\",\"08\",\"09\",\\\n",
    "                 \"12\",\"13\",\"14\",\"15\",\"16\",\"19\",\"20\",\"21\",\"22\",\"23\",\\\n",
    "            \"27\",\"28\",\"29\"]\n",
    "#loop through files and record scores\n",
    "score_list = {}\n",
    "for i in date_list:\n",
    "    date = \"12-\" +i\n",
    "    senti_dic = load_dict()\n",
    "    twtr_rdd = load_data(i)\n",
    "    final_score = twtr_rdd.map(map_dict).reduce(reduce_dict)\n",
    "    score_list[date] = final_score\n",
    " "
   ]
  },
  {
   "cell_type": "code",
   "execution_count": null,
   "metadata": {
    "collapsed": false,
    "deletable": true,
    "editable": true
   },
   "outputs": [],
   "source": [
    "############################regression###########################################\n",
    "import statsmodels.formula.api as sm\n",
    "import pandas_datareader.data as web\n",
    "import numpy as np\n",
    "import datetime"
   ]
  },
  {
   "cell_type": "code",
   "execution_count": null,
   "metadata": {
    "collapsed": false,
    "deletable": true,
    "editable": true
   },
   "outputs": [],
   "source": [
    "def get_params(tick):\n",
    "    #get stock data\n",
    "    start = datetime.datetime(2016, 12, 1)\n",
    "    end = datetime.datetime(2016, 12, 31)\n",
    "    f = web.DataReader(\"F\", 'yahoo', start, end)\n",
    "    f = f['Adj Close'].values\n",
    "    #calculate return\n",
    "    return_ = (np.array(f[1:])-np.array(f[0:-1]))/np.array(f[1:])\n",
    "   \n",
    "    # get the parameters\n",
    "    df = pd.DataFrame()\n",
    "    for i in score_list:\n",
    "    \n",
    "        seres = pd.DataFrame(score_list[i][tick] , [i,])\n",
    "        df = df.append(seres)\n",
    "    df=df.sort()\n",
    "    df['S'] = return_\n",
    "\n",
    "    #regression and get parameters\n",
    "    result = sm.ols(formula=\"S ~ M + P\", data=df).fit()\n",
    "\n",
    "    return result.params"
   ]
  },
  {
   "cell_type": "code",
   "execution_count": null,
   "metadata": {
    "collapsed": false,
    "deletable": true,
    "editable": true
   },
   "outputs": [],
   "source": [
    "#print out parameters\n",
    "for i in [\"AMZN\",\"IBM\", \"TSLA\",\"VZ\",\"MSFT\"]:\n",
    "    print \"the intercept, betas for \", i ,\" is \\n \", get_params(i)"
   ]
  }
 ],
 "metadata": {
  "kernelspec": {
   "display_name": "Python 2",
   "language": "python",
   "name": "python2"
  },
  "language_info": {
   "codemirror_mode": {
    "name": "ipython",
    "version": 2
   },
   "file_extension": ".py",
   "mimetype": "text/x-python",
   "name": "python",
   "nbconvert_exporter": "python",
   "pygments_lexer": "ipython2",
   "version": "2.7.12"
  }
 },
 "nbformat": 4,
 "nbformat_minor": 2
}
